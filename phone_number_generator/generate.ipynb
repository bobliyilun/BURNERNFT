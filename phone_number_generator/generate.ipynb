{
 "cells": [
  {
   "cell_type": "code",
   "execution_count": 2,
   "metadata": {},
   "outputs": [],
   "source": [
    "import random\n",
    "\n",
    "def generate_random_phone_number():\n",
    "    area_codes = [\"416\", \"647\"]\n",
    "    local_number = str(random.randint(0, 9999999)).zfill(7)\n",
    "    random_area_code = random.choice(area_codes)\n",
    "\n",
    "    return f\"{random_area_code}-{local_number[:3]}-{local_number[3:]}\"\n",
    "\n",
    "# Generate and print a random Toronto phone number\n",
    "for i in range(100):\n",
    "    random_phone_number = generate_random_phone_number()\n",
    "    print(random_phone_number, file=open('../img/'+ str(i) + \".txt\", 'w'))\n",
    "          \n"
   ]
  }
 ],
 "metadata": {
  "kernelspec": {
   "display_name": "base",
   "language": "python",
   "name": "python3"
  },
  "language_info": {
   "codemirror_mode": {
    "name": "ipython",
    "version": 3
   },
   "file_extension": ".py",
   "mimetype": "text/x-python",
   "name": "python",
   "nbconvert_exporter": "python",
   "pygments_lexer": "ipython3",
   "version": "3.9.17"
  },
  "orig_nbformat": 4
 },
 "nbformat": 4,
 "nbformat_minor": 2
}
