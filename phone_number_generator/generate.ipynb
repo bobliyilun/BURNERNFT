{
 "cells": [
  {
   "cell_type": "code",
   "execution_count": 2,
   "metadata": {},
   "outputs": [],
   "source": [
    "import random\n",
    "\n",
    "def generate_random_phone_number(how_many):\n",
    "    area_codes = [\"416\", \"647\"]\n",
    "    \n",
    "\n",
    "    all_numbers = set()\n",
    "    for i in range(how_many):\n",
    "        local_number = str(random.randint(0, 9999999)).zfill(7)\n",
    "        random_area_code = random.choice(area_codes)\n",
    "        tmp = f\"{random_area_code}-{local_number[:3]}-{local_number[3:]}\"\n",
    "        while tmp in all_numbers:\n",
    "            tmp = f\"{random_area_code}-{local_number[:3]}-{local_number[3:]}\"\n",
    "        all_numbers.add(tmp)\n",
    "        \n",
    "    all_numbers = list(all_numbers)\n",
    "    for i in range(how_many):\n",
    "        random_phone_number = all_numbers[i]\n",
    "        print(random_phone_number, file=open('../phone_numbers/'+ str(i) + \".txt\", 'w'))\n",
    "          \n"
   ]
  },
  {
   "cell_type": "code",
   "execution_count": null,
   "metadata": {},
   "outputs": [],
   "source": [
    "generate_random_phone_number(100)"
   ]
  }
 ],
 "metadata": {
  "kernelspec": {
   "display_name": "base",
   "language": "python",
   "name": "python3"
  },
  "language_info": {
   "codemirror_mode": {
    "name": "ipython",
    "version": 3
   },
   "file_extension": ".py",
   "mimetype": "text/x-python",
   "name": "python",
   "nbconvert_exporter": "python",
   "pygments_lexer": "ipython3",
   "version": "3.9.17"
  },
  "orig_nbformat": 4
 },
 "nbformat": 4,
 "nbformat_minor": 2
}
